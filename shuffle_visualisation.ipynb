{
 "cells": [
  {
   "cell_type": "code",
   "execution_count": 1,
   "metadata": {},
   "outputs": [],
   "source": [
    "from matplotlib import pyplot as plt\n",
    "import pandas as pd"
   ]
  },
  {
   "cell_type": "code",
   "execution_count": 14,
   "metadata": {},
   "outputs": [
    {
     "name": "stdout",
     "output_type": "stream",
     "text": [
      "ordered_deck created with 99 cards (comander is separate)\n"
     ]
    }
   ],
   "source": [
    "# first let's set up a deck\n",
    "n_cards = 100\n",
    "lands = {\n",
    "    'white': 0,\n",
    "    'black': 0,\n",
    "    'red': 20,\n",
    "    'green': 20,\n",
    "    'blue': 0,\n",
    "}\n",
    "\n",
    "ordered_deck = []\n",
    "for land, number in lands.items():\n",
    "    ordered_deck.extend([land]*number)\n",
    "ordered_deck.extend([*range(1, n_cards - len(ordered_deck))])\n",
    "print(f'ordered_deck created with {len(ordered_deck)} cards (comander is separate)')"
   ]
  },
  {
   "cell_type": "code",
   "execution_count": 60,
   "metadata": {},
   "outputs": [
    {
     "data": {
      "image/png": "[encoded data removed]",
      "text/plain": [
       "<Figure size 640x480 with 1 Axes>"
      ]
     },
     "metadata": {},
     "output_type": "display_data"
    }
   ],
   "source": [
    "# let's create a function to visualise deck order\n",
    "def visualise(library: list, title: str = None) -> None:\n",
    "    \"\"\"visualises library order\"\"\"\n",
    "    fig, ax = plt.subplots()\n",
    "\n",
    "    # create a bar axis with the card indecies of unique cards and a fixed\n",
    "    # index for land original position doesn't matter for it.\n",
    "    # land_height = max([val for val in library if isinstance(val, int)]) + 1\n",
    "    land_height = -10\n",
    "    bar_colours = []\n",
    "    bar_heights = []\n",
    "    for card in library:\n",
    "        if isinstance(card, int):\n",
    "            bar_colours.append('tab:purple')\n",
    "            bar_heights.append(card)\n",
    "        else:\n",
    "            bar_colours.append(f'tab:{card}')\n",
    "            bar_heights.append(land_height)\n",
    "    bar_indecies = list(range(1, len(library) + 1))\n",
    "    ax.bar(bar_indecies, bar_heights, color=bar_colours, width=1)\n",
    "\n",
    "    # set up the axis labels and plot title\n",
    "    ax.set_ylabel('original index')\n",
    "    y_vals, y_labels = ax.get_yticks(), ax.get_yticklabels()\n",
    "    for y, label in zip(y_vals, y_labels):\n",
    "        if y == land_height:\n",
    "            label.set_text('land')\n",
    "            break\n",
    "    ax.set_yticks(y_vals[1:-1])\n",
    "    ax.set_yticklabels(y_labels[1:-1])\n",
    "    ax.set_xlabel('current index')\n",
    "    if title is not None:\n",
    "        ax.set_title(title)\n",
    "\n",
    "\n",
    "visualise(ordered_deck, title='ordered deck')"
   ]
  }
 ],
 "metadata": {
  "kernelspec": {
   "display_name": "shuffle-vis",
   "language": "python",
   "name": "python3"
  },
  "language_info": {
   "codemirror_mode": {
    "name": "ipython",
    "version": 3
   },
   "file_extension": ".py",
   "mimetype": "text/x-python",
   "name": "python",
   "nbconvert_exporter": "python",
   "pygments_lexer": "ipython3",
   "version": "3.11.0"
  },
  "orig_nbformat": 4
 },
 "nbformat": 4,
 "nbformat_minor": 2
}
