{
 "cells": [
  {
   "cell_type": "code",
   "execution_count": 1,
   "metadata": {},
   "outputs": [],
   "source": [
    "from matplotlib import pyplot as plt\n",
    "import pandas as pd"
   ]
  },
  {
   "cell_type": "code",
   "execution_count": 8,
   "metadata": {},
   "outputs": [
    {
     "name": "stdout",
     "output_type": "stream",
     "text": [
      "ordered_deck created with 99 cards (comander is separate)\n"
     ]
    }
   ],
   "source": [
    "# first let's set up a deck\n",
    "n_cards = 100\n",
    "n_lands = 40\n",
    "\n",
    "ordered_deck = ['l']*n_lands + [*range(1, n_cards - n_lands)]\n",
    "print(f'ordered_deck created with {len(ordered_deck)} cards (comander is separate)')"
   ]
  }
 ],
 "metadata": {
  "kernelspec": {
   "display_name": "shuffle-vis",
   "language": "python",
   "name": "python3"
  },
  "language_info": {
   "codemirror_mode": {
    "name": "ipython",
    "version": 3
   },
   "file_extension": ".py",
   "mimetype": "text/x-python",
   "name": "python",
   "nbconvert_exporter": "python",
   "pygments_lexer": "ipython3",
   "version": "3.11.0"
  },
  "orig_nbformat": 4
 },
 "nbformat": 4,
 "nbformat_minor": 2
}
